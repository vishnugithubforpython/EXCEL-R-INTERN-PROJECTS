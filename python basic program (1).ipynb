{
 "cells": [
  {
   "cell_type": "code",
   "execution_count": 30,
   "id": "23a6e3c8-788c-4eb6-82bb-a87bfeec1294",
   "metadata": {},
   "outputs": [
    {
     "name": "stdin",
     "output_type": "stream",
     "text": [
      "enter the number 1\n"
     ]
    },
    {
     "name": "stdout",
     "output_type": "stream",
     "text": [
      "enter the number greater than 1\n"
     ]
    }
   ],
   "source": [
    "def primenumber():\n",
    "    if num<2:\n",
    "        print(\"enter the number greater than 1\")\n",
    "    elif num==2:\n",
    "        print(\"the number is prime\")\n",
    "    for i in range(2,num):\n",
    "        if num%i==0:\n",
    "            print(\"the given number is not prime\")\n",
    "            break\n",
    "        else:\n",
    "            print(\"the given number is  a prime\")\n",
    "            return\n",
    "num=int(input(\"enter the number\"))\n",
    "primenumber()\n"
   ]
  },
  {
   "cell_type": "code",
   "execution_count": 38,
   "id": "59a6205f-9249-4c58-b7ed-2b47ed6ad28e",
   "metadata": {},
   "outputs": [
    {
     "name": "stdin",
     "output_type": "stream",
     "text": [
      "enter the words water\n"
     ]
    },
    {
     "name": "stdout",
     "output_type": "stream",
     "text": [
      "it is not a palindrome\n"
     ]
    }
   ],
   "source": [
    "def palindrome():\n",
    "    reverse=n[: : -1]\n",
    "    n==reverse\n",
    "    if n==reverse:\n",
    "        print(\"it is a palindrome\")\n",
    "    else:\n",
    "        print(\"it is not a palindrome\")\n",
    "n=input(\"enter the words\")\n",
    "palindrome()"
   ]
  },
  {
   "cell_type": "code",
   "execution_count": 19,
   "id": "acf99fe9-0f5d-4f34-b6ca-8a00c7fe279a",
   "metadata": {},
   "outputs": [
    {
     "name": "stdout",
     "output_type": "stream",
     "text": [
      "'this': 2\n",
      "'is': 1\n",
      "'a': 1\n",
      "'sample': 1\n",
      "'text': 2\n",
      "'will': 1\n",
      "'be': 1\n",
      "'used': 1\n",
      "'to': 1\n",
      "'demonstrate': 1\n",
      "'the': 1\n",
      "'word': 1\n",
      "'counter': 1\n"
     ]
    }
   ],
   "source": [
    "def word_count(text):\n",
    "    words=text.split()\n",
    "    word_counts={}\n",
    "    for word in words:\n",
    "        word = word.strip('.,?!;:\"')\n",
    "        word=word.lower()\n",
    "        if word in word_counts:\n",
    "            word_counts[word]+=1\n",
    "        else:\n",
    "            word_counts[word]=1\n",
    "    for word, count in word_counts.items():\n",
    "        print(f\"'{word}': {count}\")\n",
    "            \n",
    "text=\"This is a sample text. This text will be used to demonstrate the word counter.\"\n",
    "word_count(text)\n",
    "                \n",
    "             \n",
    "            \n",
    "        "
   ]
  },
  {
   "cell_type": "code",
   "execution_count": 20,
   "id": "c550871a-17ff-4dbb-a5f8-0a9df540aeab",
   "metadata": {},
   "outputs": [
    {
     "name": "stdout",
     "output_type": "stream",
     "text": [
      "Squares of Even Numbers within the Range 100 to 200:\n",
      "The square of 100 is: 10000\n",
      "The square of 102 is: 10404\n",
      "The square of 104 is: 10816\n",
      "The square of 106 is: 11236\n",
      "The square of 108 is: 11664\n",
      "The square of 110 is: 12100\n",
      "The square of 112 is: 12544\n",
      "The square of 114 is: 12996\n",
      "The square of 116 is: 13456\n",
      "The square of 118 is: 13924\n",
      "The square of 120 is: 14400\n",
      "The square of 122 is: 14884\n",
      "The square of 124 is: 15376\n",
      "The square of 126 is: 15876\n",
      "The square of 128 is: 16384\n",
      "The square of 130 is: 16900\n",
      "The square of 132 is: 17424\n",
      "The square of 134 is: 17956\n",
      "The square of 136 is: 18496\n",
      "The square of 138 is: 19044\n",
      "The square of 140 is: 19600\n",
      "The square of 142 is: 20164\n",
      "The square of 144 is: 20736\n",
      "The square of 146 is: 21316\n",
      "The square of 148 is: 21904\n",
      "The square of 150 is: 22500\n",
      "The square of 152 is: 23104\n",
      "The square of 154 is: 23716\n",
      "The square of 156 is: 24336\n",
      "The square of 158 is: 24964\n",
      "The square of 160 is: 25600\n",
      "The square of 162 is: 26244\n",
      "The square of 164 is: 26896\n",
      "The square of 166 is: 27556\n",
      "The square of 168 is: 28224\n",
      "The square of 170 is: 28900\n",
      "The square of 172 is: 29584\n",
      "The square of 174 is: 30276\n",
      "The square of 176 is: 30976\n",
      "The square of 178 is: 31684\n",
      "The square of 180 is: 32400\n",
      "The square of 182 is: 33124\n",
      "The square of 184 is: 33856\n",
      "The square of 186 is: 34596\n",
      "The square of 188 is: 35344\n",
      "The square of 190 is: 36100\n",
      "The square of 192 is: 36864\n",
      "The square of 194 is: 37636\n",
      "The square of 196 is: 38416\n",
      "The square of 198 is: 39204\n",
      "The square of 200 is: 40000\n"
     ]
    }
   ],
   "source": [
    "\n",
    "print(\"Squares of Even Numbers within the Range 100 to 200:\")\n",
    "\n",
    "for num in range(100, 201):\n",
    "    if num % 2 == 0:\n",
    "        square = num ** 2\n",
    "        print(f\"The square of {num} is: {square}\")\n"
   ]
  },
  {
   "cell_type": "code",
   "execution_count": null,
   "id": "3d953527-aca0-4a47-88b5-f92d0e09c4d4",
   "metadata": {},
   "outputs": [],
   "source": []
  }
 ],
 "metadata": {
  "kernelspec": {
   "display_name": "Python 3 (ipykernel)",
   "language": "python",
   "name": "python3"
  },
  "language_info": {
   "codemirror_mode": {
    "name": "ipython",
    "version": 3
   },
   "file_extension": ".py",
   "mimetype": "text/x-python",
   "name": "python",
   "nbconvert_exporter": "python",
   "pygments_lexer": "ipython3",
   "version": "3.11.5"
  }
 },
 "nbformat": 4,
 "nbformat_minor": 5
}
