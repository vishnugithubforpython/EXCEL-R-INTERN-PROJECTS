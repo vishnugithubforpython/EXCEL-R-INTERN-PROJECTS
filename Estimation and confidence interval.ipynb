{
 "cells": [
  {
   "cell_type": "code",
   "execution_count": 1,
   "id": "a879c280-13f8-4bf5-94aa-1df8fecb47a8",
   "metadata": {},
   "outputs": [
    {
     "name": "stdout",
     "output_type": "stream",
     "text": [
      "99% Confidence Interval using Sample Standard Deviation:\n",
      "Confidence Interval: (1.090197338451367, 1.3871359948819662)\n",
      "\n",
      "99% Confidence Interval using Known Population Standard Deviation:\n",
      "Confidence Interval: (1.1056514133957607, 1.3716819199375725)\n"
     ]
    }
   ],
   "source": [
    "import pandas as pd\n",
    "import numpy as np\n",
    "from scipy import stats\n",
    "\n",
    "# Data\n",
    "data = [1.13, 1.55, 1.43, 0.92, 1.25, 1.36, 1.32, 0.85, 1.07, 1.48, 1.20, 1.33, 1.18, 1.22, 1.29]\n",
    "n = len(data)\n",
    "sample_mean = np.mean(data)\n",
    "sample_std = np.std(data, ddof=1)  # ddof=1 for sample standard deviation\n",
    "\n",
    "# Critical value for t-distribution\n",
    "t_critical = stats.t.ppf(0.995, df=n-1)  # 99% confidence level, two-tailed\n",
    "\n",
    "# Margin of error\n",
    "margin_error = t_critical * (sample_std / np.sqrt(n))\n",
    "\n",
    "# Confidence interval\n",
    "confidence_interval = (sample_mean - margin_error, sample_mean + margin_error)\n",
    "\n",
    "print(\"99% Confidence Interval using Sample Standard Deviation:\")\n",
    "print(\"Confidence Interval:\", confidence_interval)\n",
    "\n",
    "# Now let's calculate the confidence interval using known population standard deviation\n",
    "\n",
    "population_std = 0.2\n",
    "\n",
    "# Critical value for z-distribution\n",
    "z_critical = stats.norm.ppf(0.995)  # 99% confidence level, two-tailed\n",
    "\n",
    "# Margin of error\n",
    "margin_error_known_std = z_critical * (population_std / np.sqrt(n))\n",
    "\n",
    "# Confidence interval\n",
    "confidence_interval_known_std = (sample_mean - margin_error_known_std, sample_mean + margin_error_known_std)\n",
    "\n",
    "print(\"\\n99% Confidence Interval using Known Population Standard Deviation:\")\n",
    "print(\"Confidence Interval:\", confidence_interval_known_std)\n"
   ]
  },
  {
   "cell_type": "code",
   "execution_count": null,
   "id": "fa41c148-ff08-44ef-96bf-777a840cbe6a",
   "metadata": {},
   "outputs": [],
   "source": []
  }
 ],
 "metadata": {
  "kernelspec": {
   "display_name": "Python 3 (ipykernel)",
   "language": "python",
   "name": "python3"
  },
  "language_info": {
   "codemirror_mode": {
    "name": "ipython",
    "version": 3
   },
   "file_extension": ".py",
   "mimetype": "text/x-python",
   "name": "python",
   "nbconvert_exporter": "python",
   "pygments_lexer": "ipython3",
   "version": "3.11.5"
  }
 },
 "nbformat": 4,
 "nbformat_minor": 5
}
