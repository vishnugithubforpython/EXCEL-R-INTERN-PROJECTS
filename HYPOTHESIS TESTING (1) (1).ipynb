{
 "cells": [
  {
   "cell_type": "code",
   "execution_count": 1,
   "id": "a12212e8-76c4-40dd-9e52-f37509bebaa1",
   "metadata": {},
   "outputs": [
    {
     "name": "stdout",
     "output_type": "stream",
     "text": [
      "Test Statistic: -38.0\n",
      "Critical Value: 1.7108820799094275\n",
      "Decision: Fail to reject the null hypothesis\n"
     ]
    }
   ],
   "source": [
    "import numpy as np\n",
    "from scipy import stats\n",
    "\n",
    "\n",
    "sample_mean = 3050 \n",
    "theoretical_mean = 1000 + 5 * 600\n",
    "standard_deviation = 5 * 25  \n",
    "sample_size = 25\n",
    "alpha = 0.05\n",
    "\n",
    "# Step 1: State the Hypotheses statement\n",
    "# Null Hypothesis (H0): The weekly operating costs are as per the theoretical model.\n",
    "# Alternative Hypothesis (H1): The weekly operating costs are higher than the theoretical model suggests.\n",
    "\n",
    "# Step 2: Calculate the Test Statistic\n",
    "test_statistic = (sample_mean - theoretical_mean) / (standard_deviation / np.sqrt(sample_size))\n",
    "\n",
    "# Step 3: Determine the Critical Value\n",
    "# Since the null hypothesis is being tested against a single population mean and the sample size is relatively small (< 30),\n",
    "# Degrees of freedom = sample size - 1\n",
    "degrees_of_freedom = sample_size - 1\n",
    "critical_value = stats.t.ppf(1 - alpha, df=degrees_of_freedom)\n",
    "\n",
    "# Step 4: Make a Decision\n",
    "# Decision Rule: If the test statistic > critical value, reject the null hypothesis.\n",
    "# Otherwise, fail to reject the null hypothesis.\n",
    "if test_statistic > critical_value:\n",
    "    decision = \"Reject the null hypothesis\"\n",
    "else:\n",
    "    decision = \"Fail to reject the null hypothesis\"\n",
    "\n",
    "# Step 5: Conclusion\n",
    "# If the null hypothesis is rejected, we have evidence to support the claim that the weekly operating costs are higher than the model suggests.\n",
    "# Otherwise, we do not have sufficient evidence to support the claim.\n",
    "print(\"Test Statistic:\", test_statistic)\n",
    "print(\"Critical Value:\", critical_value)\n",
    "print(\"Decision:\", decision)\n"
   ]
  },
  {
   "cell_type": "code",
   "execution_count": 2,
   "id": "2f3a473b-bf9b-4728-8036-49c60f5eecd3",
   "metadata": {},
   "outputs": [
    {
     "name": "stdout",
     "output_type": "stream",
     "text": [
      "Chi-Square Statistic: 5.638227513227513\n",
      "Critical Value: 0.0\n",
      "Decision: Reject the null hypothesis\n"
     ]
    }
   ],
   "source": [
    "import numpy as np\n",
    "from scipy.stats import chi2_contingency\n",
    "\n",
    "# Contingency table data\n",
    "observed = np.array([[50, 70],\n",
    "                     [80, 100],\n",
    "                     [60, 90],\n",
    "                     [30, 50],\n",
    "                     [20, 50]])\n",
    "\n",
    "# Step 1: State the Hypotheses\n",
    "# Null Hypothesis (H0): There is no association between the type of smart home device purchased and the customer satisfaction level.\n",
    "# Alternative Hypothesis (H1): There is an association between the type of smart home device purchased and the customer satisfaction level.\n",
    "\n",
    "# Step 2: Compute the Chi-Square Statistic\n",
    "chi2, p, dof, expected = chi2_contingency(observed)\n",
    "\n",
    "# Step 3: Determine the Critical Value\n",
    "# Since the significance level (alpha) is 0.05 and the degrees of freedom (df) is (number of categories - 1),\n",
    "# we need to find the critical value from the Chi-Square distribution table.\n",
    "alpha = 0.05\n",
    "critical_value = chi2_contingency(np.ones((2, 5)))[0]\n",
    "\n",
    "# Step 4: Make a Decision\n",
    "# Decision Rule: If the Chi-Square statistic > critical value, reject the null hypothesis.\n",
    "# Otherwise, fail to reject the null hypothesis.\n",
    "if chi2 > critical_value:\n",
    "    decision = \"Reject the null hypothesis\"\n",
    "else:\n",
    "    decision = \"Fail to reject the null hypothesis\"\n",
    "\n",
    "# Conclusion\n",
    "# If the null hypothesis is rejected, it suggests that there is a significant association between the type of smart home device purchased and the customer satisfaction level.\n",
    "print(\"Chi-Square Statistic:\", chi2)\n",
    "print(\"Critical Value:\", critical_value)\n",
    "print(\"Decision:\", decision)\n"
   ]
  },
  {
   "cell_type": "code",
   "execution_count": null,
   "id": "51be8960-cb9f-457b-8e36-f1dd05473b13",
   "metadata": {},
   "outputs": [],
   "source": []
  }
 ],
 "metadata": {
  "kernelspec": {
   "display_name": "Python 3 (ipykernel)",
   "language": "python",
   "name": "python3"
  },
  "language_info": {
   "codemirror_mode": {
    "name": "ipython",
    "version": 3
   },
   "file_extension": ".py",
   "mimetype": "text/x-python",
   "name": "python",
   "nbconvert_exporter": "python",
   "pygments_lexer": "ipython3",
   "version": "3.11.5"
  }
 },
 "nbformat": 4,
 "nbformat_minor": 5
}
